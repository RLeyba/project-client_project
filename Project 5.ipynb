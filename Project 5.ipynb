{
 "cells": [
  {
   "cell_type": "markdown",
   "metadata": {},
   "source": [
    "# Damage Assessment APP - Back-end Code\n",
    "\n",
    "\n",
    "- [1.0 Google Address Reverse Geocoding API](#1.0-Google-Address-Reverse-Geocoding-API)\n",
    "- [2.0 Google Image Street View API](#2.0-Google-Image-Street-View-API)\n",
    "- [3.0 Zillow Data API](#3.0-Zillow-Data-API)\n"
   ]
  },
  {
   "cell_type": "code",
   "execution_count": 193,
   "metadata": {},
   "outputs": [],
   "source": [
    "import pandas as pd\n",
    "import requests"
   ]
  },
  {
   "cell_type": "markdown",
   "metadata": {},
   "source": [
    "## 1.0 Google Address Reverse Geocoding API"
   ]
  },
  {
   "cell_type": "markdown",
   "metadata": {},
   "source": [
    "### 1.1 Input: "
   ]
  },
  {
   "cell_type": "code",
   "execution_count": 2,
   "metadata": {},
   "outputs": [],
   "source": [
    "#  Lattitude and Longitude from extracted from picture\n",
    "#  Input format: turple or list \n",
    "#  example: (37.79100833333333, -122.40064166666667) or\n",
    "#           [37.79100833333333, -122.40064166666667]\n",
    "\n",
    "lat_long_raw = (37.79100833333333, -122.40064166666667)"
   ]
  },
  {
   "cell_type": "code",
   "execution_count": 3,
   "metadata": {},
   "outputs": [],
   "source": [
    "# number of addresses to return\n",
    "n_address = 4"
   ]
  },
  {
   "cell_type": "code",
   "execution_count": 4,
   "metadata": {},
   "outputs": [],
   "source": [
    "# API Key\n",
    "# !!!SAVE YOUR API AS A CSV ON YOUR LOCAL DRIVE AND READ USING THE CODE BELOW, DO NOT EXPLICITLY USE\n",
    "#    API KEY IN THIS BOOK!!!\n",
    "api_key = pd.read_csv('/Users/kaizhao/Documents/project_API/google_api.csv', header=None).loc[0,0]"
   ]
  },
  {
   "cell_type": "markdown",
   "metadata": {},
   "source": [
    "### 1.2 Data Mining Through Google API"
   ]
  },
  {
   "cell_type": "code",
   "execution_count": 11,
   "metadata": {},
   "outputs": [],
   "source": [
    "# Generate Google API url\n",
    "# Input: lat_long_raw & api_key (see above section 1.1 for instruction)\n",
    "# Output: Google API url\n",
    "\n",
    "def get_url_geocode(lat_long_raw, api_key):\n",
    "    lat, long = lat_long_raw\n",
    "    latlng = str(lat)+','+str(long)\n",
    "    url_geocode = f'https://maps.googleapis.com/maps/api/geocode/json?latlng={latlng}&key={api_key}'\n",
    "    return url_geocode"
   ]
  },
  {
   "cell_type": "code",
   "execution_count": 14,
   "metadata": {},
   "outputs": [],
   "source": [
    "# Generate Google API url\n",
    "# Input: lat_long_raw & api_key (see above section 1.1 for instruction)\n",
    "#        n_address: integer - number of addresses to return\n",
    "# Output: list of dictionary of addresses\n",
    "\n",
    "\n",
    "def get_address(lat_long_raw, api_key, n_address):\n",
    "    \n",
    "    url = get_url_geocode(lat_long_raw, api_key)\n",
    "\n",
    "    res = requests.get(url)\n",
    "    if res.status_code == 200:\n",
    "        print(f'Status code: {res.status_code}')\n",
    "        res_jas = res.json()\n",
    "    \n",
    "        address_list = []\n",
    "        for i in range(n_address):\n",
    "            address={}\n",
    "            address['full_address'] = res_jas['results'][i]['formatted_address']\n",
    "            address['street_number'] = address['full_address'].split(', ')[0]\n",
    "            address['city'] = address['full_address'].split(', ')[1]\n",
    "            address['state'] = address['full_address'].split(', ')[2].split(' ')[0]\n",
    "            address['zip_code'] = address['full_address'].split(', ')[2].split(' ')[1]\n",
    "            address['lat'] = res_jas['results'][i]['geometry']['location']['lat']\n",
    "            address['lng'] = res_jas['results'][i]['geometry']['location']['lng']\n",
    "            address['place_id'] = res_jas['results'][i]['place_id']\n",
    "            address_list.append(address)\n",
    "    else:\n",
    "        print('Unexpected error: Check latitude, longitude format and Api Key')\n",
    "    \n",
    "    return address_list"
   ]
  },
  {
   "cell_type": "markdown",
   "metadata": {},
   "source": [
    "### 1.3 Outout"
   ]
  },
  {
   "cell_type": "code",
   "execution_count": 17,
   "metadata": {},
   "outputs": [
    {
     "name": "stdout",
     "output_type": "stream",
     "text": [
      "Status code: 200\n"
     ]
    }
   ],
   "source": [
    "address_list = get_address(lat_long_raw, api_key, n_address)"
   ]
  },
  {
   "cell_type": "code",
   "execution_count": 18,
   "metadata": {},
   "outputs": [
    {
     "data": {
      "text/plain": [
       "[{'full_address': '0290011, San Francisco, CA 94104, United States',\n",
       "  'street_number': '0290011',\n",
       "  'city': 'San Francisco',\n",
       "  'state': 'CA',\n",
       "  'zip_code': '94104',\n",
       "  'lat': 37.7909707,\n",
       "  'lng': -122.4005609,\n",
       "  'place_id': 'ChIJ2UojPeqBhYAR6RgupRitcQM'},\n",
       " {'full_address': '8 Sansome St, San Francisco, CA 94104, USA',\n",
       "  'street_number': '8 Sansome St',\n",
       "  'city': 'San Francisco',\n",
       "  'state': 'CA',\n",
       "  'zip_code': '94104',\n",
       "  'lat': 37.7908097,\n",
       "  'lng': -122.40047,\n",
       "  'place_id': 'ChIJXdeibWKAhYARyaiiGHmYg50'},\n",
       " {'full_address': 'Bush St & Sansome St, San Francisco, CA 94104, USA',\n",
       "  'street_number': 'Bush St & Sansome St',\n",
       "  'city': 'San Francisco',\n",
       "  'state': 'CA',\n",
       "  'zip_code': '94104',\n",
       "  'lat': 37.7910704,\n",
       "  'lng': -122.4009497,\n",
       "  'place_id': 'ChIJITZbDGKAhYARvTKTAY1KjOk'},\n",
       " {'full_address': '54 Sansome St, San Francisco, CA 94104, USA',\n",
       "  'street_number': '54 Sansome St',\n",
       "  'city': 'San Francisco',\n",
       "  'state': 'CA',\n",
       "  'zip_code': '94104',\n",
       "  'lat': 37.7909835,\n",
       "  'lng': -122.4007399,\n",
       "  'place_id': 'Eis1NCBTYW5zb21lIFN0LCBTYW4gRnJhbmNpc2NvLCBDQSA5NDEwNCwgVVNBIhoSGAoUChIJX7rvbWKAhYARm53f1WsUxaEQNg'}]"
      ]
     },
     "execution_count": 18,
     "metadata": {},
     "output_type": "execute_result"
    }
   ],
   "source": [
    "# address_list"
   ]
  },
  {
   "cell_type": "markdown",
   "metadata": {},
   "source": [
    "### 1.4 Validation"
   ]
  },
  {
   "cell_type": "code",
   "execution_count": null,
   "metadata": {},
   "outputs": [],
   "source": [
    "# allow the user to validate the 4 addresses output by the reverse geocoding: option in 0-3\n",
    "# if none of the addressed match (option == 4), user need to manually input address\n",
    "# input outside 0-4 will lead to an ERROR message\n",
    "\n",
    "def address_select():\n",
    "    n = None\n",
    "    while n not in range (5):\n",
    "        n = int(input('Selection: '))\n",
    "        if n in range(4):\n",
    "            address = address_list[n]['full_address']\n",
    "            print(address)\n",
    "            return address\n",
    "        elif n == 4:\n",
    "            street_number = input('Input Street Address: ')\n",
    "            city = input('Input city: ')\n",
    "            state = input('Input State: ')\n",
    "            zip_code = input('Input zip code: ')\n",
    "            address = street_number + ', ' + city + ', ' + state + ' ' + zip_code \n",
    "            print(address)\n",
    "            return address\n",
    "        else:\n",
    "            print('Please input valide selection')"
   ]
  },
  {
   "cell_type": "code",
   "execution_count": 200,
   "metadata": {},
   "outputs": [
    {
     "name": "stdout",
     "output_type": "stream",
     "text": [
      "Selection: 4\n",
      "Input Street Address: 369 Churchill Ave\n",
      "Input city: Palo Alto\n",
      "Input State: CA\n",
      "Input zip code: 94301\n",
      "369 Churchill Ave, Palo Alto, CA 94301\n"
     ]
    }
   ],
   "source": [
    "address = address_select()"
   ]
  },
  {
   "cell_type": "markdown",
   "metadata": {},
   "source": [
    "## 2.0 Google Image Street View API\n"
   ]
  },
  {
   "cell_type": "code",
   "execution_count": 201,
   "metadata": {},
   "outputs": [],
   "source": [
    "from io import open as iopen"
   ]
  },
  {
   "cell_type": "code",
   "execution_count": 202,
   "metadata": {},
   "outputs": [],
   "source": [
    "# url generated based on validated address\n",
    "url_image = f'https://maps.googleapis.com/maps/api/streetview?size=\\\n",
    "400x400&location={address}&key={api_key}'"
   ]
  },
  {
   "cell_type": "code",
   "execution_count": 203,
   "metadata": {},
   "outputs": [
    {
     "name": "stdout",
     "output_type": "stream",
     "text": [
      "Status code: 200\n"
     ]
    }
   ],
   "source": [
    "# Streetview image extracted based on the url generated above\n",
    "filename = address.replace(' ', '_').replace(',', '')\n",
    "res_image = requests.get(url_image)\n",
    "if res_image.status_code == 200:\n",
    "    print(f'Status code: {res_image.status_code}')\n",
    "    with iopen(filename+'.jpg', 'wb') as file:\n",
    "        file.write(res_image.content)\n",
    "else:\n",
    "    print('Unexpected error')"
   ]
  },
  {
   "cell_type": "markdown",
   "metadata": {},
   "source": [
    "## 3.0 Zillow Data API"
   ]
  },
  {
   "cell_type": "code",
   "execution_count": 180,
   "metadata": {},
   "outputs": [],
   "source": [
    "from bs4 import BeautifulSoup"
   ]
  },
  {
   "cell_type": "markdown",
   "metadata": {},
   "source": [
    "### 3.1 Input"
   ]
  },
  {
   "cell_type": "code",
   "execution_count": 181,
   "metadata": {},
   "outputs": [],
   "source": [
    "# zillow web service API\n",
    "ZWSID = pd.read_csv('/Users/kaizhao/Documents/project_API/zillow_api.csv', header=None).loc[0,0]"
   ]
  },
  {
   "cell_type": "markdown",
   "metadata": {},
   "source": [
    "### 3.2 Obtain Property Info"
   ]
  },
  {
   "cell_type": "code",
   "execution_count": 182,
   "metadata": {},
   "outputs": [],
   "source": [
    "# Generate street address and zip code input based on validated google reverse geocoding\n",
    "street_address = address.split(', ')[0].replace(' ', '+')\n",
    "zip_code = address.split(', ')[2].split(' ')[1]"
   ]
  },
  {
   "cell_type": "code",
   "execution_count": 183,
   "metadata": {},
   "outputs": [],
   "source": [
    "# Generate api url based on the street address and zip code above\n",
    "z_info_url = f'http://www.zillow.com/webservice/GetDeepSearchResults.htm?\\\n",
    "zws-id={ZWSID}&address={street_address}&citystatezip={zip_code}'"
   ]
  },
  {
   "cell_type": "code",
   "execution_count": 184,
   "metadata": {},
   "outputs": [],
   "source": [
    "# collecting property information\n",
    "res_z_info = requests.get(z_info_url)\n",
    "soup = BeautifulSoup(res_z_info.content, ['lxml-xml'])\n",
    "property_info = {}\n",
    "property_info['zpid'] = soup.find('zpid').text\n",
    "property_info['current_value'] = int(soup.find('amount').text)\n",
    "property_info['last_sold'] = int(soup.find('lastSoldPrice').text)\n",
    "property_info['last_sold_date'] = soup.find('lastSoldDate').text\n",
    "property_info['property_type'] = soup.find('useCode').text\n",
    "property_info['year_built'] = int(soup.find('yearBuilt').text)\n",
    "property_info['bedrooms'] = int(soup.find('bedrooms').text)\n",
    "property_info['bathrooms'] = float(soup.find('bathrooms').text)\n",
    "property_info['sqft'] = int(soup.find('finishedSqFt').text)\n",
    "property_info['lot_size'] = int(soup.find('lotSizeSqFt').text)"
   ]
  },
  {
   "cell_type": "code",
   "execution_count": 185,
   "metadata": {},
   "outputs": [
    {
     "data": {
      "text/plain": [
       "{'zpid': '19508108',\n",
       " 'current_value': 2663108,\n",
       " 'last_sold': 925000,\n",
       " 'last_sold_date': '03/15/2002',\n",
       " 'property_type': 'SingleFamily',\n",
       " 'year_built': 1954,\n",
       " 'bedrooms': 3,\n",
       " 'bathrooms': 2.0,\n",
       " 'sqft': 1598,\n",
       " 'lot_size': 8611}"
      ]
     },
     "execution_count": 185,
     "metadata": {},
     "output_type": "execute_result"
    }
   ],
   "source": [
    "property_info"
   ]
  },
  {
   "cell_type": "markdown",
   "metadata": {},
   "source": [
    "### 3.3 Obtain Price Chart"
   ]
  },
  {
   "cell_type": "code",
   "execution_count": 186,
   "metadata": {},
   "outputs": [],
   "source": [
    "# url parameters\n",
    "unit = 'dollar' # 'percent' or 'dollar'\n",
    "duration = '5year' # '1year', '5year', or '10year'. default = '1year'\n",
    "zpid = property_info['zpid'] # from section 3.2\n",
    "\n",
    "# url address\n",
    "z_chart_url = f'http://www.zillow.com/webservice/GetChart.htm?\\\n",
    "zws-id={ZWSID}&unit-type={unit}&zpid={zpid}&width=600&height=300&chartDuratoin={duration}'"
   ]
  },
  {
   "cell_type": "code",
   "execution_count": 192,
   "metadata": {},
   "outputs": [],
   "source": [
    "# obtain url to embed in the web-app\n",
    "res_z_chart = requests.get(z_chart_url)\n",
    "soup = BeautifulSoup(res_z_chart.content, ['lxml-xml'])\n",
    "chart_url = soup.find('url').text"
   ]
  },
  {
   "cell_type": "code",
   "execution_count": 188,
   "metadata": {},
   "outputs": [
    {
     "data": {
      "text/plain": [
       "'http://www.zillow.com/app?chartDuration=1year&chartType=partner&height=300&page=webservice%2FGetChart&service=chart&width=600&zpid=19508108'"
      ]
     },
     "execution_count": 188,
     "metadata": {},
     "output_type": "execute_result"
    }
   ],
   "source": [
    "# url for embedding web_app\n",
    "chart_url"
   ]
  },
  {
   "cell_type": "markdown",
   "metadata": {},
   "source": [
    "### 3.4 Obtain Zillow Image\n",
    "> Zillow Image usually have better quality but are usually legally protected"
   ]
  },
  {
   "cell_type": "code",
   "execution_count": 189,
   "metadata": {},
   "outputs": [],
   "source": [
    "# url address\n",
    "z_image_url = f'http://www.zillow.com/webservice/GetUpdatedPropertyDetails.htm?\\\n",
    "zws-id={ZWSID}&zpid={zpid}'"
   ]
  },
  {
   "cell_type": "code",
   "execution_count": 190,
   "metadata": {},
   "outputs": [
    {
     "name": "stdout",
     "output_type": "stream",
     "text": [
      "Status code: 200\n"
     ]
    }
   ],
   "source": [
    "# obtain url to incorporate in the web-app\n",
    "res_z_image = requests.get(z_image_url)\n",
    "print(f'Status code: {res_z_image.status_code}')\n",
    "soup = BeautifulSoup(res_z_image.content, ['lxml-xml'])\n",
    "image_url = soup.find_all('url')"
   ]
  },
  {
   "cell_type": "code",
   "execution_count": 191,
   "metadata": {},
   "outputs": [
    {
     "data": {
      "text/plain": [
       "[]"
      ]
     },
     "execution_count": 191,
     "metadata": {},
     "output_type": "execute_result"
    }
   ],
   "source": [
    "image_url"
   ]
  }
 ],
 "metadata": {
  "kernelspec": {
   "display_name": "Python 3",
   "language": "python",
   "name": "python3"
  },
  "language_info": {
   "codemirror_mode": {
    "name": "ipython",
    "version": 3
   },
   "file_extension": ".py",
   "mimetype": "text/x-python",
   "name": "python",
   "nbconvert_exporter": "python",
   "pygments_lexer": "ipython3",
   "version": "3.7.3"
  }
 },
 "nbformat": 4,
 "nbformat_minor": 2
}
